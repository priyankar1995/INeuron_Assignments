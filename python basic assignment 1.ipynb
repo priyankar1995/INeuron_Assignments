{
 "cells": [
  {
   "cell_type": "markdown",
   "id": "288ec735",
   "metadata": {},
   "source": [
    "# python basic assignment 1 "
   ]
  },
  {
   "cell_type": "markdown",
   "id": "fc697a12",
   "metadata": {},
   "source": [
    "### 1. In the below elements which of them are values or an expression? eg:- values can be integer or string and expressions will be mathematical operators.\n"
   ]
  },
  {
   "cell_type": "markdown",
   "id": "28988455",
   "metadata": {},
   "source": [
    "values:-\n",
    "\n",
    "'hello'\n",
    "\n",
    "-87.8\n",
    "\n",
    "6\n",
    "\n",
    "expressions:-\n",
    "\n",
    "*\n",
    "\n",
    "-\n",
    "\n",
    "/\n",
    "\n",
    "+\n"
   ]
  },
  {
   "cell_type": "markdown",
   "id": "41dbf5b5",
   "metadata": {},
   "source": [
    "### 2. What is the difference between string and variable?"
   ]
  },
  {
   "cell_type": "markdown",
   "id": "8fba0635",
   "metadata": {},
   "source": [
    "variable \n",
    "* a variable is a container which contains values of different data types like integer, float, string etc.\n",
    "* variable points towards a location in computer memory(RAM) which holds value\n",
    "* variable is written or declared without any quotation\n",
    "* in python we don't have to declare variable type separately as python is a dynamically typed language\n",
    "\n",
    "string\n",
    "* a string is a datatype which is stored in computer memory\n",
    "* it is one of the data types that can be contained inside a variable\n",
    "* string is one or a series of characters,may or may not have any literal meaning, quoted in single or double inverted commas.\n",
    "* in python string is iterable and immutable"
   ]
  },
  {
   "cell_type": "markdown",
   "id": "55f42480",
   "metadata": {},
   "source": [
    "### 3. Describe three different data types."
   ]
  },
  {
   "cell_type": "markdown",
   "id": "a605e7bd",
   "metadata": {},
   "source": [
    "the three different data types are \n",
    "1)integer type\n",
    "interger type data are actually the entire range of integer numbers \n",
    "e.g. 14,0,-10\n",
    "\n",
    "2)float type\n",
    "float type data are all the real numbers with decimal point precision\n",
    "e.g. 12.43, -23.21  \n",
    "\n",
    "3)string type\n",
    "string type data are one or a series of characters quoted in a single or double invereted commas which may or may not have any literal meaning\n",
    "e.g. '12sdf',\"jfdjk3%$#\""
   ]
  },
  {
   "cell_type": "markdown",
   "id": "3f30a1c9",
   "metadata": {},
   "source": [
    "### 4. What is an expression made up of? What do all expressions do?"
   ]
  },
  {
   "cell_type": "markdown",
   "id": "c2d63750",
   "metadata": {},
   "source": [
    "an expression can be made up of one or more varaibles, values, operators, constants, functions, etc.\n",
    "e.g. a + b, 28 * 5\n",
    "\n",
    "an expression is an syntactical entity that consists one or more of the above which eventually results in a different value"
   ]
  },
  {
   "cell_type": "markdown",
   "id": "5ce506d8",
   "metadata": {},
   "source": [
    "### 5. This assignment statements, like spam = 10. What is the difference between an expression and a statement?        "
   ]
  },
  {
   "cell_type": "markdown",
   "id": "8a833711",
   "metadata": {},
   "source": [
    "a statement is a segment of coding which usually makes a declaration which will be necessary in writing the code further\n",
    "\n",
    "spam=10 \n",
    "here spam is the variable where value 10 is assigned\n",
    "this is why this statement is a assignment statement where a value is assigned in a variable for future use.\n",
    "assignment statement has a \"=\" sign in it by which the value is stored \n",
    "\n",
    "an expression is a piece of syntax made up of variables, values, operators, constants etc. which generates a different value by the evaluation of the interpreter or the compiler."
   ]
  },
  {
   "cell_type": "markdown",
   "id": "c1069d34",
   "metadata": {},
   "source": [
    "### 6. After running the following code, what does the variable bacon contain?\n",
    "#### bacon = 22\n",
    "#### bacon + 1\n"
   ]
  },
  {
   "cell_type": "markdown",
   "id": "eaeaa3a7",
   "metadata": {},
   "source": [
    "now bacon contains the value => 22\n",
    "because the added value of bacon is not contained in anywhere"
   ]
  },
  {
   "cell_type": "code",
   "execution_count": 2,
   "id": "cc597df4",
   "metadata": {},
   "outputs": [
    {
     "name": "stdout",
     "output_type": "stream",
     "text": [
      "22\n"
     ]
    }
   ],
   "source": [
    "bacon = 22\n",
    "bacon + 1\n",
    "print(bacon)"
   ]
  },
  {
   "cell_type": "markdown",
   "id": "8099b9f6",
   "metadata": {},
   "source": [
    "### 7. What should the values of the following two terms be?\n",
    "#### 'spam' + 'spamspam'\n",
    "#### 'spam' * 3\n"
   ]
  },
  {
   "cell_type": "code",
   "execution_count": 3,
   "id": "20628f9a",
   "metadata": {},
   "outputs": [
    {
     "data": {
      "text/plain": [
       "'spamspamspam'"
      ]
     },
     "execution_count": 3,
     "metadata": {},
     "output_type": "execute_result"
    }
   ],
   "source": [
    "'spam'+'spamspam'\n"
   ]
  },
  {
   "cell_type": "code",
   "execution_count": 4,
   "id": "6e4efda6",
   "metadata": {},
   "outputs": [
    {
     "data": {
      "text/plain": [
       "'spamspamspam'"
      ]
     },
     "execution_count": 4,
     "metadata": {},
     "output_type": "execute_result"
    }
   ],
   "source": [
    "'spam'*3"
   ]
  },
  {
   "cell_type": "markdown",
   "id": "8d370394",
   "metadata": {},
   "source": [
    "### 8. Why is eggs a valid variable name while 100 is invalid?"
   ]
  },
  {
   "cell_type": "markdown",
   "id": "db1d8d55",
   "metadata": {},
   "source": [
    "eggs is a valid variable while 100 is not because according to programming conventions variable name must start with alphabets or underscore and should convey some menaing which is helpful for distinguising individuality from values. again if a variable name could be created using only numerics it would be illogical and very confusing for future interpretaion "
   ]
  },
  {
   "cell_type": "markdown",
   "id": "35268e57",
   "metadata": {},
   "source": [
    "### 9. What three functions can be used to get the integer, floating-point number, or string version of a value?"
   ]
  },
  {
   "cell_type": "markdown",
   "id": "0f668346",
   "metadata": {},
   "source": [
    "int() function is used to convert into integer value (alphabet can't be converted will raise error)\n",
    "\n",
    "float() function is used to convert into float value (alphabet can't be converted will raise error)\n",
    "\n",
    "str() function is used to convert into string value\n"
   ]
  },
  {
   "cell_type": "markdown",
   "id": "c27e151b",
   "metadata": {},
   "source": [
    "### 10. Why does this expression cause an error? How can you fix it?\n",
    "#### 'I have eaten ' + 99 + ' burritos.'\n"
   ]
  },
  {
   "cell_type": "code",
   "execution_count": 11,
   "id": "26d7ab45",
   "metadata": {},
   "outputs": [
    {
     "ename": "TypeError",
     "evalue": "can only concatenate str (not \"int\") to str",
     "output_type": "error",
     "traceback": [
      "\u001b[1;31m---------------------------------------------------------------------------\u001b[0m",
      "\u001b[1;31mTypeError\u001b[0m                                 Traceback (most recent call last)",
      "\u001b[1;32m<ipython-input-11-d24137131a5c>\u001b[0m in \u001b[0;36m<module>\u001b[1;34m\u001b[0m\n\u001b[1;32m----> 1\u001b[1;33m \u001b[1;34m'I have eaten '\u001b[0m \u001b[1;33m+\u001b[0m \u001b[1;36m99\u001b[0m \u001b[1;33m+\u001b[0m \u001b[1;34m' burritos.'\u001b[0m\u001b[1;33m\u001b[0m\u001b[1;33m\u001b[0m\u001b[0m\n\u001b[0m",
      "\u001b[1;31mTypeError\u001b[0m: can only concatenate str (not \"int\") to str"
     ]
    }
   ],
   "source": [
    "'I have eaten ' + 99 + ' burritos.'"
   ]
  },
  {
   "cell_type": "markdown",
   "id": "a353217b",
   "metadata": {},
   "source": [
    "here the error occuring is related to data type error\n",
    "'I have eaten ', ' burritos.' are two strings\n",
    "but 99 is an integer\n",
    "string can be concatinated only with string and integer with integer\n",
    "\n",
    "\n",
    "the possible solution is to convert the integer into string as the other strings cant be converted into integers \n",
    "so int() function can be used here \n",
    "\n",
    "or \n",
    "\n",
    "99 can be simply written as '99'\n",
    "(both of the solutions will result in similar output."
   ]
  },
  {
   "cell_type": "code",
   "execution_count": 13,
   "id": "020e63b1",
   "metadata": {},
   "outputs": [
    {
     "data": {
      "text/plain": [
       "'I have eaten 99 burritos.'"
      ]
     },
     "execution_count": 13,
     "metadata": {},
     "output_type": "execute_result"
    }
   ],
   "source": [
    "'I have eaten ' + str(99) + ' burritos.'"
   ]
  },
  {
   "cell_type": "code",
   "execution_count": 14,
   "id": "cd9b1063",
   "metadata": {},
   "outputs": [
    {
     "data": {
      "text/plain": [
       "'I have eaten 99 burritos.'"
      ]
     },
     "execution_count": 14,
     "metadata": {},
     "output_type": "execute_result"
    }
   ],
   "source": [
    "'I have eaten ' + '99' + ' burritos.'"
   ]
  }
 ],
 "metadata": {
  "kernelspec": {
   "display_name": "Python 3 (ipykernel)",
   "language": "python",
   "name": "python3"
  },
  "language_info": {
   "codemirror_mode": {
    "name": "ipython",
    "version": 3
   },
   "file_extension": ".py",
   "mimetype": "text/x-python",
   "name": "python",
   "nbconvert_exporter": "python",
   "pygments_lexer": "ipython3",
   "version": "3.9.7"
  }
 },
 "nbformat": 4,
 "nbformat_minor": 5
}
